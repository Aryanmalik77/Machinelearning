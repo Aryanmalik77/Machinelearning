{
 "cells": [
  {
   "cell_type": "code",
   "execution_count": 2,
   "id": "e2610f2e-b2e9-4c5e-bd63-471e50a549b6",
   "metadata": {},
   "outputs": [],
   "source": [
    "import pandas as pd\n",
    "import numpy as np\n"
   ]
  },
  {
   "cell_type": "code",
   "execution_count": 8,
   "id": "8776e6f8-5505-4fa2-a8ec-79de6654a541",
   "metadata": {},
   "outputs": [],
   "source": [
    "from sklearn.datasets import load_diabetes"
   ]
  },
  {
   "cell_type": "code",
   "execution_count": 16,
   "id": "eed9cddd-48b5-4e0b-8502-6daea6c134ae",
   "metadata": {},
   "outputs": [],
   "source": [
    "X,y =load_diabetes(return_X_y= True)"
   ]
  },
  {
   "cell_type": "code",
   "execution_count": 20,
   "id": "0dae10dd-9a62-4159-80a5-173d299ef73f",
   "metadata": {},
   "outputs": [],
   "source": [
    "from sklearn.model_selection import train_test_split"
   ]
  },
  {
   "cell_type": "code",
   "execution_count": 24,
   "id": "8e1b41d9-4483-4478-adff-d449deca4ad9",
   "metadata": {},
   "outputs": [],
   "source": [
    "X_train, X_test, Y_train, Y_test = train_test_split(X,y,test_size =0.25, random_state =42)"
   ]
  },
  {
   "cell_type": "code",
   "execution_count": 87,
   "id": "b5c1ea7e-a099-4905-838d-3e2bf2676831",
   "metadata": {},
   "outputs": [],
   "source": [
    "import random\n",
    "class MGDR:\n",
    "    def __init__(self,batch_size,epochs,learning_rate):\n",
    "        self.intercept_=None\n",
    "        self.coef_ = None\n",
    "        self.lr = learning_rate \n",
    "        self.epochs = epochs \n",
    "        self.batch_size = batch_size\n",
    "    def fit(self,X_train, Y_train):\n",
    "       self.intercept_=0\n",
    "       self.coef_= np.ones(X_train.shape[1])\n",
    "       for i in range(self.epochs):\n",
    "           for j in range(int(X_train.shape[0]/self.batch_size)):\n",
    "               idx = random.sample(range(X_train.shape[0]),self.batch_size)\n",
    "               y_hat = np.dot(X_train[idx],self.coef_) +self.intercept_\n",
    "               intercept_dr = -2*np.mean(Y_train[idx]-y_hat)\n",
    "               self.intercept_= self.intercept_ - (self.lr*intercept_dr)\n",
    "               \n",
    "               coef_dr = -2*np.dot((Y_train[idx] - y_hat),X_train[idx])\n",
    "               self.coef_ = self.coef_ - (self.lr*coef_dr)\n",
    "       print(self.intercept_,self.coef_)\n",
    "    def predict(self,X_test):\n",
    "        return np.dot(X_test,self.coef_) + self.intercept_"
   ]
  },
  {
   "cell_type": "code",
   "execution_count": 89,
   "id": "ca158270-b71b-4279-bd24-21578e8cf840",
   "metadata": {},
   "outputs": [],
   "source": [
    "gd = MGDR(batch_size=int(X_train.shape[0]/50),learning_rate=0.01,epochs=100)"
   ]
  },
  {
   "cell_type": "code",
   "execution_count": 91,
   "id": "756d8f8d-540c-47b9-919f-03b04d8ce01c",
   "metadata": {},
   "outputs": [
    {
     "name": "stdout",
     "output_type": "stream",
     "text": [
      "155.54636193524559 [  61.66628645 -155.75613728  447.22257054  318.87438862  -58.12923966\n",
      "  -94.12281767 -224.42322753  154.76327074  337.40974283  115.98278608]\n"
     ]
    }
   ],
   "source": [
    "gd.fit(X_train,Y_train)"
   ]
  },
  {
   "cell_type": "code",
   "execution_count": 93,
   "id": "161eade1-6f19-4d17-8daf-a0268966a796",
   "metadata": {},
   "outputs": [],
   "source": [
    "from sklearn .metrics import r2_score"
   ]
  },
  {
   "cell_type": "code",
   "execution_count": 95,
   "id": "7c825653-96e7-4a42-b237-8a4a9aaace20",
   "metadata": {},
   "outputs": [
    {
     "data": {
      "text/plain": [
       "0.49165912524543387"
      ]
     },
     "execution_count": 95,
     "metadata": {},
     "output_type": "execute_result"
    }
   ],
   "source": [
    "y_pred = gd.predict(X_test)\n",
    "r2_score(Y_test,y_pred)"
   ]
  },
  {
   "cell_type": "code",
   "execution_count": null,
   "id": "e4f23137-addd-492f-bd64-e06c3c49b600",
   "metadata": {},
   "outputs": [],
   "source": []
  }
 ],
 "metadata": {
  "kernelspec": {
   "display_name": "Python [conda env:base] *",
   "language": "python",
   "name": "conda-base-py"
  },
  "language_info": {
   "codemirror_mode": {
    "name": "ipython",
    "version": 3
   },
   "file_extension": ".py",
   "mimetype": "text/x-python",
   "name": "python",
   "nbconvert_exporter": "python",
   "pygments_lexer": "ipython3",
   "version": "3.12.7"
  }
 },
 "nbformat": 4,
 "nbformat_minor": 5
}
