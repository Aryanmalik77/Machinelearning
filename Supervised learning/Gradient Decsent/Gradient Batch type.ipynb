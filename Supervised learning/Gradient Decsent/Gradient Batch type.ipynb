{
 "cells": [
  {
   "cell_type": "code",
   "execution_count": 12,
   "id": "68fb7ffd-cd9b-4169-b388-042221212bee",
   "metadata": {},
   "outputs": [],
   "source": [
    "import numpy as np\n",
    "import pandas as pd\n",
    "from sklearn.datasets import load_diabetes"
   ]
  },
  {
   "cell_type": "code",
   "execution_count": 16,
   "id": "e105fb7e-f89d-4345-933b-c0b1d3751053",
   "metadata": {},
   "outputs": [],
   "source": [
    "X,y = load_diabetes(return_X_y = True)"
   ]
  },
  {
   "cell_type": "code",
   "execution_count": 18,
   "id": "a44c6001-d7f7-4d00-be71-f22cc21434d7",
   "metadata": {},
   "outputs": [
    {
     "data": {
      "text/plain": [
       "(442, 10)"
      ]
     },
     "execution_count": 18,
     "metadata": {},
     "output_type": "execute_result"
    }
   ],
   "source": [
    "X.shape"
   ]
  },
  {
   "cell_type": "code",
   "execution_count": 20,
   "id": "7002a11e-5fb4-4efa-958a-7cd63c54ffe4",
   "metadata": {},
   "outputs": [
    {
     "data": {
      "text/plain": [
       "(442,)"
      ]
     },
     "execution_count": 20,
     "metadata": {},
     "output_type": "execute_result"
    }
   ],
   "source": [
    "y.shape"
   ]
  },
  {
   "cell_type": "code",
   "execution_count": 22,
   "id": "7f9b823c-17d8-4918-9961-b8e68e6bb5d7",
   "metadata": {},
   "outputs": [],
   "source": [
    "from sklearn.model_selection import train_test_split"
   ]
  },
  {
   "cell_type": "code",
   "execution_count": 24,
   "id": "85f32709-b6c2-45e2-a57f-343d682e7d1d",
   "metadata": {},
   "outputs": [],
   "source": [
    "X_train, X_test, Y_train, Y_test = train_test_split(X,y,test_size =0.25, random_state = 42)"
   ]
  },
  {
   "cell_type": "code",
   "execution_count": 58,
   "id": "2c8b1405-f9b3-4243-8b1f-1bfd274c20f0",
   "metadata": {},
   "outputs": [],
   "source": [
    "class meragd:\n",
    "    def __init__(self, learning_rate,epochs):\n",
    "        self.intercept_=None\n",
    "        self.coef_=None\n",
    "        self.lr = learning_rate \n",
    "        self.epochs = epochs\n",
    "\n",
    "    def fit(self, X_train, Y_train):\n",
    "        # here ww will update all the  intercepts and coefs\n",
    "        self.intercept_ = 0\n",
    "        self.coef_ = np.ones(X_train.shape[1])\n",
    "        for i in range(self.epochs):\n",
    "            y_hat = np.dot(X_train,self.coef_) + self.intercept_\n",
    "            intercept_dr =-2*np.mean(Y_train - y_hat)\n",
    "            self.intercept_ = self.intercept_-(self.lr*intercept_dr)\n",
    "            \n",
    "            coef_dr = -2*np.dot((Y_train-y_hat),X_train)/X_train.shape[0]\n",
    "            self.coef_ = self.coef_ -(self.lr*coef_dr)\n",
    "\n",
    "        print(self.intercept_,self.coef_)\n",
    "\n",
    "    def predict(self,X_test):\n",
    "       return np.dot(X_test, self.coef_) + self.intercept_\n",
    "       \n",
    "\n",
    "            \n"
   ]
  },
  {
   "cell_type": "code",
   "execution_count": 62,
   "id": "0215fbb0-37cb-44c4-81bb-365e43e5b97d",
   "metadata": {},
   "outputs": [
    {
     "name": "stdout",
     "output_type": "stream",
     "text": [
      "154.0056815797828 [ 14.01932097   1.13265902  42.06800673  31.877796    12.5555075\n",
      "   9.97157256 -26.02231793  29.92588527  38.17375704  26.37713214]\n"
     ]
    }
   ],
   "source": [
    "gd = meragd(epochs = 100, learning_rate = 0.1)\n",
    "gd.fit(X_train, Y_train)\n"
   ]
  },
  {
   "cell_type": "code",
   "execution_count": 66,
   "id": "c34ea9a5-3544-4a69-bf30-200959474667",
   "metadata": {},
   "outputs": [],
   "source": [
    "from sklearn.metrics import r2_score"
   ]
  },
  {
   "cell_type": "code",
   "execution_count": 68,
   "id": "43b0c093-fb44-41d1-8733-83b3e7a12c50",
   "metadata": {},
   "outputs": [],
   "source": [
    "y_pred = gd.predict(X_test)\n"
   ]
  },
  {
   "cell_type": "code",
   "execution_count": 70,
   "id": "acaad878-5736-45aa-994c-6dae59841c80",
   "metadata": {},
   "outputs": [
    {
     "data": {
      "text/plain": [
       "0.11363126282643188"
      ]
     },
     "execution_count": 70,
     "metadata": {},
     "output_type": "execute_result"
    }
   ],
   "source": [
    "r2_score(Y_test,y_pred)"
   ]
  },
  {
   "cell_type": "code",
   "execution_count": null,
   "id": "fb7ed1d9-573b-456b-ad92-d6306b3750c2",
   "metadata": {},
   "outputs": [],
   "source": []
  }
 ],
 "metadata": {
  "kernelspec": {
   "display_name": "Python [conda env:base] *",
   "language": "python",
   "name": "conda-base-py"
  },
  "language_info": {
   "codemirror_mode": {
    "name": "ipython",
    "version": 3
   },
   "file_extension": ".py",
   "mimetype": "text/x-python",
   "name": "python",
   "nbconvert_exporter": "python",
   "pygments_lexer": "ipython3",
   "version": "3.12.7"
  }
 },
 "nbformat": 4,
 "nbformat_minor": 5
}
